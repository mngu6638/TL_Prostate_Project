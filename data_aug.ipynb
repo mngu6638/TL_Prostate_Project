{
 "cells": [
  {
   "cell_type": "code",
   "execution_count": 1,
   "metadata": {},
   "outputs": [
    {
     "name": "stderr",
     "output_type": "stream",
     "text": [
      "Using TensorFlow backend.\n"
     ]
    }
   ],
   "source": [
    "from keras import models\n",
    "from keras import layers\n",
    "from keras.utils import np_utils, generic_utils\n",
    "from keras.utils import to_categorical\n",
    "from keras.preprocessing.image import ImageDataGenerator\n",
    "from keras.applications import VGG19\n",
    "from sklearn.model_selection import KFold\n",
    "from keras.optimizers import adam\n",
    "import pickle\n",
    "import numpy as np"
   ]
  },
  {
   "cell_type": "code",
   "execution_count": 2,
   "metadata": {},
   "outputs": [],
   "source": [
    "### Get data from the input file ###\n",
    "\n",
    "infile = open('S:\\\\Usyd\\\\Project\\\\Data\\\\train_data','rb')\n",
    "Images = pickle.load(infile)\n",
    "Labels = pickle.load(infile)\n",
    "Patientid = pickle.load(infile)\n",
    "infile.close()"
   ]
  },
  {
   "cell_type": "code",
   "execution_count": 3,
   "metadata": {},
   "outputs": [],
   "source": [
    "### Data ###\n",
    "\n",
    "# Convert labels into binary #\n",
    "binaryLabels = np_utils.to_categorical(Labels)\n",
    "\n",
    "# Training data #\n",
    "xtrain = Images\n",
    "ytrain = binaryLabels\n",
    "print(xtrain.shape)\n",
    "print(ytrain.shape)"
   ]
  },
  {
   "cell_type": "code",
   "execution_count": 4,
   "metadata": {},
   "outputs": [],
   "source": [
    "#create array with only negative findings\n",
    "\n",
    "xtrain_neg = []\n",
    "ytrain_neg = []\n",
    "for i in range(len(xtrain)):\n",
    "    if ytrain[i,1]==1:\n",
    "        xneg = xtrain[i,:,:,:]\n",
    "        yneg = ytrain[i,:]\n",
    "        xtrain_neg.append(xneg)\n",
    "        ytrain_neg.append(yneg)\n",
    "        \n",
    "import numpy as np\n",
    "xtrain_neg = np.array(xtrain_neg)\n",
    "ytrain_neg = np.array(ytrain_neg)"
   ]
  },
  {
   "cell_type": "code",
   "execution_count": 5,
   "metadata": {},
   "outputs": [],
   "source": [
    "#create array with only positive findings\n",
    "\n",
    "xtrain_pos = []\n",
    "ytrain_pos = []\n",
    "for i in range(len(xtrain)):\n",
    "    if ytrain[i,0]==1:\n",
    "        xpos = xtrain[i,:,:,:]\n",
    "        ypos = ytrain[i,:]\n",
    "        xtrain_pos.append(xpos)\n",
    "        ytrain_pos.append(ypos)\n",
    "        \n",
    "xtrain_pos = np.array(xtrain_pos)\n",
    "ytrain_pos = np.array(ytrain_pos)"
   ]
  },
  {
   "cell_type": "code",
   "execution_count": 6,
   "metadata": {},
   "outputs": [
    {
     "name": "stdout",
     "output_type": "stream",
     "text": [
      "(47, 224, 224, 3)\n",
      "(47, 2)\n",
      "(149, 224, 224, 3)\n",
      "(149, 2)\n"
     ]
    }
   ],
   "source": [
    "#Check the dimension of arrays\n",
    "print(xtrain_neg.shape)\n",
    "print(ytrain_neg.shape)\n",
    "print(xtrain_pos.shape)\n",
    "print(ytrain_pos.shape)"
   ]
  },
  {
   "cell_type": "code",
   "execution_count": 7,
   "metadata": {},
   "outputs": [],
   "source": [
    "# Create a datagen for transformation\n",
    "datagen = ImageDataGenerator(\n",
    "        rotation_range=20,\n",
    "        width_shift_range=0.2,\n",
    "        height_shift_range=0.2,\n",
    "        shear_range=0.2,\n",
    "        zoom_range=0.2,\n",
    "        horizontal_flip=True,\n",
    "        fill_mode='nearest')\n",
    "g = datagen.flow(xtrain_pos, ytrain_pos, batch_size=1)\n",
    "gg = datagen.flow(xtrain_neg, ytrain_neg, batch_size=1)"
   ]
  },
  {
   "cell_type": "code",
   "execution_count": 8,
   "metadata": {},
   "outputs": [],
   "source": [
    "# Create variables to hold the transformed data\n",
    "# One for X, one for Y\n",
    "trDataX = []\n",
    "trDataY = []"
   ]
  },
  {
   "cell_type": "code",
   "execution_count": 9,
   "metadata": {},
   "outputs": [],
   "source": [
    "# Run the generator multiples times\n",
    "N = len(xtrain_pos) * 13\n",
    "for i in range(N):\n",
    "  xBatch, yBatch = next(g)\n",
    "  trDataX.append(xBatch)\n",
    "  trDataY.append(yBatch)"
   ]
  },
  {
   "cell_type": "code",
   "execution_count": 10,
   "metadata": {},
   "outputs": [],
   "source": [
    "M = len(xtrain_neg) * 40\n",
    "for i in range(M):\n",
    "  xBatch, yBatch = next(gg)\n",
    "  trDataX.append(xBatch)\n",
    "  trDataY.append(yBatch)"
   ]
  },
  {
   "cell_type": "code",
   "execution_count": 11,
   "metadata": {},
   "outputs": [],
   "source": [
    "# Convert the list to np.array\n",
    "# np.concatenate will merge the data along an axis\n",
    "import numpy as np\n",
    "trDataX = np.concatenate(trDataX, axis=0)\n",
    "trDataY = np.concatenate(trDataY, axis=0)"
   ]
  },
  {
   "cell_type": "code",
   "execution_count": 12,
   "metadata": {},
   "outputs": [
    {
     "name": "stdout",
     "output_type": "stream",
     "text": [
      "(3817, 224, 224, 3)\n",
      "(3817, 2)\n"
     ]
    }
   ],
   "source": [
    "# Check the dimension\n",
    "print(trDataX.shape)\n",
    "print(trDataY.shape)"
   ]
  },
  {
   "cell_type": "code",
   "execution_count": 18,
   "metadata": {},
   "outputs": [],
   "source": [
    "# Check the corresponding label\n",
    "# Start from 0\n",
    "from sklearn.utils import shuffle\n",
    "trDataX, trDataY = shuffle(trDataX, trDataY, random_state=0)"
   ]
  },
  {
   "cell_type": "code",
   "execution_count": 16,
   "metadata": {},
   "outputs": [],
   "source": [
    "with open('S:\\\\Usyd\\\\Project\\\\Data\\\\train_data_balanced', 'wb') as f:\n",
    "    pickle.dump(trDataX, f)\n",
    "    pickle.dump(trDataY, f)"
   ]
  }
 ],
 "metadata": {
  "kernelspec": {
   "display_name": "Python 3",
   "language": "python",
   "name": "python3"
  },
  "language_info": {
   "codemirror_mode": {
    "name": "ipython",
    "version": 3
   },
   "file_extension": ".py",
   "mimetype": "text/x-python",
   "name": "python",
   "nbconvert_exporter": "python",
   "pygments_lexer": "ipython3",
   "version": "3.7.4"
  }
 },
 "nbformat": 4,
 "nbformat_minor": 4
}

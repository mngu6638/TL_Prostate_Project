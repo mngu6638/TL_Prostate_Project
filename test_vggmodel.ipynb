# -*- coding: utf-8 -*-
"""
Building a VGG-19_based model
"""
from keras.models import Model
from keras.layers import Input
from keras.layers import Conv2D, MaxPooling2D, Flatten, Dense



def vgg_block(layer_in, n_filters, n_conv):
    for _ in range(n_conv):
        layer_in = Conv2D(n_filters, (3,3), padding='same',activation='relu')(layer_in)
    layer_in = MaxPooling2D((2,2), strides=(2,2))(layer_in)
    return layer_in

visible = Input(shape=(224,224,3))

layer = vgg_block(visible, 64, 2)
layer = vgg_block(layer, 128, 2)
layer = vgg_block(layer, 256, 4)
layer = vgg_block(layer, 512, 4)
layer = vgg_block(layer, 512, 4)
layer = Flatten()(layer)
layer = Dense(4096, activation='relu')(layer)
layer = Dense(4096, activation='relu')(layer)
layer = Dense(2, activation='softmax')(layer)
model = Model(inputs=visible, outputs=layer)
model.summary()

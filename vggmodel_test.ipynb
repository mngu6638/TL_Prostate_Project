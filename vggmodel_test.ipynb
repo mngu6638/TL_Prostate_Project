{
 "cells": [
  {
   "cell_type": "code",
   "execution_count": 5,
   "metadata": {
    "scrolled": true
   },
   "outputs": [],
   "source": [
    "from keras import models\n",
    "from keras import layers\n",
    "from keras.utils import np_utils, generic_utils\n",
    "from keras.utils import to_categorical\n",
    "from keras.preprocessing.image import ImageDataGenerator\n",
    "from keras.applications import VGG19\n",
    "from sklearn.model_selection import KFold\n",
    "import pickle"
   ]
  },
  {
   "cell_type": "code",
   "execution_count": 2,
   "metadata": {
    "scrolled": true
   },
   "outputs": [],
   "source": [
    "### Get data from the input file ###\n",
    "\n",
    "infile = open('S:\\\\Usyd\\\\Project\\\\Data\\\\train_data','rb')\n",
    "Images = pickle.load(infile)\n",
    "Labels = pickle.load(infile)\n",
    "Patientid = pickle.load(infile)\n",
    "infile.close()"
   ]
  },
  {
   "cell_type": "code",
   "execution_count": 7,
   "metadata": {
    "scrolled": true
   },
   "outputs": [
    {
     "name": "stdout",
     "output_type": "stream",
     "text": [
      "196\n",
      "196\n",
      "196\n",
      "196\n"
     ]
    }
   ],
   "source": [
    "### Data ###\n",
    "\n",
    "# Convert labels into binary #\n",
    "binaryLabels = np_utils.to_categorical(Labels)\n",
    "print(len(Labels))\n",
    "print(len(Images))\n",
    "\n",
    "# Training data #\n",
    "xtrain = Images\n",
    "ytrain = binaryLabels\n",
    "print(len(xtrain))\n",
    "print(len(ytrain))\n",
    "\n",
    "# Define Data Augmentation function #\n",
    "def data_aug(X_train,X_test,y_train,y_test,train_batch_size,test_batch_size):\n",
    "    train_datagen = ImageDataGenerator(\n",
    "        rotation_range=20,\n",
    "        width_shift_range=0.2,\n",
    "        height_shift_range=0.2,\n",
    "        shear_range=0.2,\n",
    "        zoom_range=0.2,\n",
    "        horizontal_flip=True,\n",
    "        fill_mode='nearest')\n",
    "    test_datagen = ImageDataGenerator(rescale=1.0/255)\n",
    "    train_batch = train_datagen.flow(X_train,y_train,batch_size=train_batch_size)\n",
    "    test_batch = test_datagen.flow(X_test,y_test,batch_size=test_batch_size)\n",
    "    return (train_batch,test_batch)"
   ]
  },
  {
   "cell_type": "code",
   "execution_count": 8,
   "metadata": {
    "scrolled": true
   },
   "outputs": [],
   "source": [
    "base_model = VGG19(weights=None, include_top=False, input_shape=(224,224,3))\n",
    "\n",
    "# Define the K-fold Cross Validator\n",
    "kfold = KFold(n_splits=5, shuffle=True)\n",
    "acc_per_fold = []       # Define per-fold score containers\n",
    "loss_per_fold = []      # Define per-fold score containers\n",
    "\n",
    "fold_no = 1\n",
    "for train, val in kfold.split(xtrain, ytrain):\n",
    "    X_train = xtrain[train]\n",
    "    X_val = xtrain[val]\n",
    "    X_train = X_train.astype('float32')\n",
    "    X_val = X_val.astype('float32')\n",
    "    y_train = ytrain[train]\n",
    "    y_val = ytrain[val]\n",
    "    BS = 15\n",
    "    train_batch, val_batch = data_aug(X_train,X_val,y_train,y_val, BS, BS)\n",
    "    \n",
    "\n",
    "    \n",
    "    # Model architecture #\n",
    "    model = models.Sequential()\n",
    "    model.add(base_model)\n",
    "    model.add(layers.Flatten())\n",
    "    model.add(layers.Dense(4096, activation='relu'))\n",
    "    model.add(layers.Dense(4096, activation='relu'))\n",
    "    model.add(layers.Dense(2, activation='softmax'))\n",
    "    model.summary()\n",
    "    \n",
    "    # Extract the weights before training #\n",
    "    weights_untrained = model.layers[0].get_weights()[0]\n",
    "    \n",
    "    # Compile the model\n",
    "    model.compile(loss='binary_crossentropy',\n",
    "                  optimizer='adam',\n",
    "                  metrics=['accuracy'])\n",
    "    print('------------------------------------------------------------------------')\n",
    "    print(f'Training for fold {fold_no} ...')\n",
    "    BS = 15\n",
    "    Epochs_no = 30\n",
    "    \n",
    "\n",
    "    # Train the model \n",
    "    model.fit_generator(train_batch, validation_data=val_batch, epochs=Epochs_no, validation_steps= X_val.shape[0] // BS, \n",
    "                        steps_per_epoch= X_train.shape[0] // BS, verbose=2)\n",
    "    \n",
    "    # Extract the weights after training\n",
    "    weights_trained = model.layers[0].get_weights()[0]\n",
    "    print(weights_trained.shape)\n",
    "    \n",
    "    # Save model #\n",
    "    model_name = 'VGG19_Fold'+str(fold_no)+'.h5'\n",
    "    model.save(model_name)\n",
    "    \n",
    "    # Generate generalization metrics\n",
    "    scores = model.evaluate(X_val, y_val)\n",
    "    print(f'Score for fold {fold_no}: {model.metrics_names[0]} of {scores[0]}; {model.metrics_names[1]} of {scores[1]*100}%')\n",
    "    acc_per_fold.append(scores[1] * 100)\n",
    "    loss_per_fold.append(scores[0])\n",
    "\n",
    "    # Increase fold number\n",
    "    fold_no = fold_no + 1"
   ]
  },
  {
   "cell_type": "code",
   "execution_count": null,
   "metadata": {},
   "outputs": [],
   "source": [
    "# == Provide average scores ==\n",
    "print('------------------------------------------------------------------------')\n",
    "print('Score per fold')\n",
    "for i in range(0, len(acc_per_fold)):\n",
    "    print('------------------------------------------------------------------------')\n",
    "    print(f'> Fold {i+1} - Loss: {loss_per_fold[i]} - Accuracy: {acc_per_fold[i]}%')\n",
    "print('------------------------------------------------------------------------')\n",
    "print('Average scores for all folds:')\n",
    "print(f'> Accuracy: {np.mean(acc_per_fold)} (+- {np.std(acc_per_fold)})')\n",
    "print(f'> Loss: {np.mean(loss_per_fold)}')\n",
    "print('------------------------------------------------------------------------')"
   ]
  }
 ],
 "metadata": {
  "kernelspec": {
   "display_name": "Python 3",
   "language": "python",
   "name": "python3"
  },
  "language_info": {
   "codemirror_mode": {
    "name": "ipython",
    "version": 3
   },
   "file_extension": ".py",
   "mimetype": "text/x-python",
   "name": "python",
   "nbconvert_exporter": "python",
   "pygments_lexer": "ipython3",
   "version": "3.7.4"
  }
 },
 "nbformat": 4,
 "nbformat_minor": 4
}
